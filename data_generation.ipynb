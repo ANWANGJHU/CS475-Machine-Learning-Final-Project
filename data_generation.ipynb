{
 "cells": [
  {
   "cell_type": "code",
   "execution_count": 1,
   "metadata": {},
   "outputs": [],
   "source": [
    "import numpy as np\n",
    "import pandas as pd"
   ]
  },
  {
   "cell_type": "code",
   "execution_count": 2,
   "metadata": {},
   "outputs": [],
   "source": [
    "with open(\"Initial Data/final_training_data.txt\",\"r\") as f:\n",
    "    data_list = f.readlines()\n",
    "    data_list = data_list[1:-1]\n",
    "    text = [i[:-3] for i in data_list]\n",
    "    label = [i[-3:-1] for i in data_list]\n",
    "data_dict = {\"content\":text, \"label\":label}\n",
    "df = pd.DataFrame(data = data_dict, columns = [\"content\", \"label\"])\n",
    "df[\"label\"] = df[\"label\"].apply(lambda x: 1 if x == \"sw\" else 0)\n",
    "depressed = pd.DataFrame(pd.read_pickle(\"Initial Data/depressed.pickle\"))\n",
    "depressed = pd.DataFrame(depressed.content)\n",
    "non_depressed = pd.DataFrame(pd.read_pickle(\"Initial Data/non_depressed.pickle\"))\n",
    "non_depressed = [comments for i in range(non_depressed.shape[0]) for comments in non_depressed.loc[i, \"comments\"] if len(comments)>100]\n",
    "non_depressed = np.random.choice(non_depressed, 1980)\n",
    "non_depressed = pd.DataFrame({\"content\":non_depressed})\n",
    "depressed[\"label\"] = 1\n",
    "non_depressed[\"label\"] = 0\n",
    "df = pd.concat([df,depressed,non_depressed])\n",
    "df = df.reset_index(drop = True)"
   ]
  },
  {
   "cell_type": "code",
   "execution_count": 20,
   "metadata": {},
   "outputs": [
    {
     "data": {
      "text/plain": [
       "'Just worked for a few years to save up some money. That would have helped me have an actual nest egg to fall back on and maybe my own apartment at the same time'"
      ]
     },
     "execution_count": 20,
     "metadata": {},
     "output_type": "execute_result"
    }
   ],
   "source": [
    "#Depressed Posts\n",
    "df[\"content\"][6002]"
   ]
  },
  {
   "cell_type": "code",
   "execution_count": 49,
   "metadata": {},
   "outputs": [
    {
     "data": {
      "text/plain": [
       "'\"Who would you choose?! So imagine one day you are given the chance to powerbomb any famous person through a table, who would you choose? I think my choice would be the guy who plays Vince in The Fast and the Furious. Never liked the look of him hahaha.\"\\t'"
      ]
     },
     "execution_count": 49,
     "metadata": {},
     "output_type": "execute_result"
    }
   ],
   "source": [
    "#Non-depressed Posts\n",
    "df[\"content\"][4]"
   ]
  },
  {
   "cell_type": "code",
   "execution_count": 50,
   "metadata": {},
   "outputs": [],
   "source": [
    "import numpy as np\n",
    "import pandas as pd\n",
    "import nltk\n",
    "from nltk.tokenize import word_tokenize\n",
    "from nltk.corpus import stopwords\n",
    "from nltk.stem import WordNetLemmatizer\n",
    "from nltk.stem.porter import PorterStemmer\n",
    "import regex as re"
   ]
  },
  {
   "cell_type": "code",
   "execution_count": 53,
   "metadata": {},
   "outputs": [],
   "source": [
    "df[\"content\"] = df[\"content\"].apply(lambda x: word_tokenize(x.lower()))\n",
    "#We will save this step for LSTM and BERT\n",
    "df[\"content\"] = df[\"content\"].apply(lambda x: [w for w in x if w not in stopwords.words(\"english\")])\n",
    "df[\"content\"] = df[\"content\"].apply(lambda x: [w for w in x if any(t.isalpha() for t in w)])\n",
    "df[\"content\"] = df[\"content\"].apply(lambda x: [x[i] if i!=len(x)-1 else re.sub(\"\\W\",\"\",x[i]) for i in range(len(x))])\n",
    "lemmatizer = WordNetLemmatizer()\n",
    "df[\"content\"]  = df[\"content\"].apply(lambda x: [lemmatizer.lemmatize(i) for i in x])\n",
    "df[\"content\"]  = df[\"content\"].apply(lambda x: \" \".join(x))\n",
    "df[\"content\"] = df[\"content\"].apply(lambda x: x if len(x)!= 0 else np.nan)\n",
    "df = df.dropna()\n",
    "df = df.reset_index(drop = True)"
   ]
  },
  {
   "cell_type": "code",
   "execution_count": 59,
   "metadata": {},
   "outputs": [],
   "source": [
    "df.to_csv(\"new_data.csv\")"
   ]
  },
  {
   "cell_type": "code",
   "execution_count": 60,
   "metadata": {},
   "outputs": [],
   "source": [
    "df = pd.read_csv(\"new_data.csv\",index_col=0)"
   ]
  }
 ],
 "metadata": {
  "kernelspec": {
   "display_name": "Python 3",
   "language": "python",
   "name": "python3"
  },
  "language_info": {
   "codemirror_mode": {
    "name": "ipython",
    "version": 3
   },
   "file_extension": ".py",
   "mimetype": "text/x-python",
   "name": "python",
   "nbconvert_exporter": "python",
   "pygments_lexer": "ipython3",
   "version": "3.8.3"
  }
 },
 "nbformat": 4,
 "nbformat_minor": 4
}
