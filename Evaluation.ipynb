{
  "nbformat": 4,
  "nbformat_minor": 0,
  "metadata": {
    "colab": {
      "name": "Evaluation.ipynb",
      "provenance": []
    },
    "kernelspec": {
      "name": "python3",
      "display_name": "Python 3"
    }
  },
  "cells": [
    {
      "cell_type": "code",
      "metadata": {
        "colab": {
          "base_uri": "https://localhost:8080/"
        },
        "id": "icPEbt7oKj2D",
        "outputId": "211c8ee7-959a-4d2f-d124-50e5e4898f0d"
      },
      "source": [
        "from google.colab import drive\n",
        "drive.mount('/content/drive')"
      ],
      "execution_count": 1,
      "outputs": [
        {
          "output_type": "stream",
          "text": [
            "Mounted at /content/drive\n"
          ],
          "name": "stdout"
        }
      ]
    },
    {
      "cell_type": "code",
      "metadata": {
        "id": "4qKEOdlqK6Gu"
      },
      "source": [
        "from sklearn.metrics import classification_report, confusion_matrix\n",
        "import numpy as np\n",
        "import os\n",
        "os.chdir(\"/content/drive/My Drive\")"
      ],
      "execution_count": 4,
      "outputs": []
    },
    {
      "cell_type": "code",
      "metadata": {
        "colab": {
          "base_uri": "https://localhost:8080/"
        },
        "id": "KxtgfKOjK2HJ",
        "outputId": "b5f6b289-84d3-4db6-fa56-6318aac2cd81"
      },
      "source": [
        "print(\"LR0:\")\n",
        "y_pred_LR0 = np.load(\"y_pred_LR0.npy\")\n",
        "true_label_LR = np.load(\"true_label_LR.npy\")\n",
        "TN1, FP1, FN1, TP1 = confusion_matrix(true_label_LR, y_pred_LR0).ravel()\n",
        "print(\"TP = \"+str(TP1))\n",
        "print(\"FP = \"+str(FP1))\n",
        "print(\"FN = \"+str(FN1))\n",
        "print(\"TN = \"+str(TN1))\n",
        "\n",
        "print(\"-\"*30)\n",
        "print(\"LR1:\")\n",
        "y_pred_LR1 = np.load(\"y_pred_LR1.npy\")\n",
        "true_label_LR = np.load(\"true_label_LR.npy\")\n",
        "TN2, FP2, FN2, TP2 = confusion_matrix(true_label_LR, y_pred_LR1).ravel()\n",
        "print(\"TP = \"+str(TP2))\n",
        "print(\"FP = \"+str(FP2))\n",
        "print(\"FN = \"+str(FN2))\n",
        "print(\"TN = \"+str(TN2))\n",
        "\n",
        "print(\"-\"*30)\n",
        "print(\"LSTM:\")\n",
        "y_pred_LSTM = np.load(\"y_pred_LSTM.npy\")\n",
        "true_label_LSTM = np.load(\"true_label_LSTM.npy\")\n",
        "TN3, FP3, FN3, TP3 = confusion_matrix(true_label_LSTM, y_pred_LSTM).ravel()\n",
        "print(\"TP = \"+str(TP3))\n",
        "print(\"FP = \"+str(FP3))\n",
        "print(\"FN = \"+str(FN3))\n",
        "print(\"TN = \"+str(TN3))\n",
        "\n",
        "print(\"-\"*30)\n",
        "print(\"BERT:\")\n",
        "y_pred_BERT = np.load(\"y_pred_BERT.npy\")\n",
        "true_label_BERT = np.load(\"true_label_BERT.npy\")\n",
        "TN4, FP4, FN4, TP4 = confusion_matrix(true_label_BERT, y_pred_BERT).ravel()\n",
        "print(\"TP = \"+str(TP4))\n",
        "print(\"FP = \"+str(FP4))\n",
        "print(\"FN = \"+str(FN4))\n",
        "print(\"TN = \"+str(TN4))\n",
        "\n",
        "print(\"-\"*30)\n",
        "print(\"CNN:\")\n",
        "y_pred_CNN = np.load(\"y_pred_CNN.npy\")\n",
        "true_label_CNN = np.load(\"true_label_CNN.npy\")\n",
        "TN5, FP5, FN5, TP5 = confusion_matrix(true_label_CNN, y_pred_CNN).ravel()\n",
        "print(\"TP = \"+str(TP5))\n",
        "print(\"FP = \"+str(FP5))\n",
        "print(\"FN = \"+str(FN5))\n",
        "print(\"TN = \"+str(TN5))"
      ],
      "execution_count": 5,
      "outputs": [
        {
          "output_type": "stream",
          "text": [
            "LR0:\n",
            "TP = 656\n",
            "FP = 83\n",
            "FN = 97\n",
            "TN = 606\n",
            "------------------------------\n",
            "LR1:\n",
            "TP = 645\n",
            "FP = 56\n",
            "FN = 108\n",
            "TN = 633\n",
            "------------------------------\n",
            "LSTM:\n",
            "TP = 615\n",
            "FP = 101\n",
            "FN = 74\n",
            "TN = 652\n",
            "------------------------------\n",
            "BERT:\n",
            "TP = 593\n",
            "FP = 52\n",
            "FN = 96\n",
            "TN = 701\n",
            "------------------------------\n",
            "CNN:\n",
            "TP = 616\n",
            "FP = 69\n",
            "FN = 73\n",
            "TN = 684\n"
          ],
          "name": "stdout"
        }
      ]
    },
    {
      "cell_type": "code",
      "metadata": {
        "colab": {
          "base_uri": "https://localhost:8080/"
        },
        "id": "5-hTvpfoLWL0",
        "outputId": "627a53b6-692c-4e8c-ff0d-3bc37083d543"
      },
      "source": [
        "print(\"LR0:\")\n",
        "accuracy = (TP1 + TN1)/(TP1 + TN1 + FP1 + FN1)\n",
        "false_negative_rate = FN1/(FN1 + TP1)\n",
        "precision = TP1/(TP1 + FP1)\n",
        "recall = TP1/(TP1 + FN1)\n",
        "specificity = TN1/(TN1 + FP1)\n",
        "false_positive_rate = FP1/(FP1 + TN1)\n",
        "f1_score = 2*(precision * recall)/(precision + recall)\n",
        "balanced_accuracy = (precision + specificity)/2\n",
        "print(\"Accuracy = %s\\nPrecision = %s\\nRecall = %s\\nSpecificity = %s\\nFalse Positive Rate\\\n",
        " = %s\\nF1 Score = %s\\nBalanced Accuracy = %s\"%(accuracy, precision, recall, specificity, false_positive_rate, f1_score, balanced_accuracy))\n",
        "print(\"Accuracy = %s\\nFalse Negative Rate = %s\"%(accuracy, false_negative_rate))\n",
        "\n",
        "print(\"-\"*50)\n",
        "print(\"LR1:\")\n",
        "accuracy = (TP2 + TN2)/(TP2 + TN2 + FP2 + FN2)\n",
        "false_negative_rate = FN2/(FN2 + TP2)\n",
        "precision = TP2/(TP2 + FP2)\n",
        "recall = TP2/(TP2 + FN2)\n",
        "specificity = TN2/(TN2 + FP2)\n",
        "false_positive_rate = FP2/(FP2 + TN2)\n",
        "f1_score = 2*(precision * recall)/(precision + recall)\n",
        "balanced_accuracy = (precision + specificity)/2\n",
        "print(\"Accuracy = %s\\nPrecision = %s\\nRecall = %s\\nSpecificity = %s\\nFalse Positive Rate\\\n",
        " = %s\\nF1 Score = %s\\nBalanced Accuracy = %s\"%(accuracy, precision, recall, specificity, false_positive_rate, f1_score, balanced_accuracy))\n",
        "print(\"Accuracy = %s\\nFalse Negative Rate = %s\"%(accuracy, false_negative_rate))\n",
        "\n",
        "print(\"-\"*50)\n",
        "print(\"LSTM:\")\n",
        "accuracy = (TP3 + TN3)/(TP3 + TN3 + FP3 + FN3)\n",
        "false_negative_rate = FN3/(FN3 + TP3)\n",
        "precision = TP3/(TP3 + FP3)\n",
        "recall = TP3/(TP3 + FN3)\n",
        "specificity = TN3/(TN3 + FP3)\n",
        "false_positive_rate = FP3/(FP3 + TN3)\n",
        "f1_score = 2*(precision * recall)/(precision + recall)\n",
        "balanced_accuracy = (precision + specificity)/2\n",
        "print(\"Accuracy = %s\\nPrecision = %s\\nRecall = %s\\nSpecificity = %s\\nFalse Positive Rate\\\n",
        " = %s\\nF1 Score = %s\\nBalanced Accuracy = %s\"%(accuracy, precision, recall, specificity, false_positive_rate, f1_score, balanced_accuracy))\n",
        "print(\"Accuracy = %s\\nFalse Negative Rate = %s\"%(accuracy, false_negative_rate))\n",
        "\n",
        "print(\"-\"*50)\n",
        "print(\"BERT:\")\n",
        "accuracy = (TP4 + TN4)/(TP4 + TN4 + FP4 + FN4)\n",
        "false_negative_rate = FN4/(FN4 + TP4)\n",
        "precision = TP4/(TP4 + FP4)\n",
        "recall = TP4/(TP4 + FN4)\n",
        "specificity = TN4/(TN4 + FP4)\n",
        "false_positive_rate = FP4/(FP4 + TN4)\n",
        "f1_score = 2*(precision * recall)/(precision + recall)\n",
        "balanced_accuracy = (precision + specificity)/2\n",
        "print(\"Accuracy = %s\\nPrecision = %s\\nRecall = %s\\nSpecificity = %s\\nFalse Positive Rate\\\n",
        " = %s\\nF1 Score = %s\\nBalanced Accuracy = %s\"%(accuracy, precision, recall, specificity, false_positive_rate, f1_score, balanced_accuracy))\n",
        "print(\"Accuracy = %s\\nFalse Negative Rate = %s\"%(accuracy, false_negative_rate))\n",
        "\n",
        "print(\"-\"*50)\n",
        "print(\"CNN:\")\n",
        "accuracy = (TP5 + TN5)/(TP5 + TN5 + FP5 + FN5)\n",
        "false_negative_rate = FN5/(FN5 + TP5)\n",
        "precision = TP5/(TP5 + FP5)\n",
        "recall = TP5/(TP5 + FN5)\n",
        "specificity = TN5/(TN5 + FP5)\n",
        "false_positive_rate = FP5/(FP5 + TN5)\n",
        "f1_score = 2*(precision * recall)/(precision + recall)\n",
        "balanced_accuracy = (precision + specificity)/2\n",
        "print(\"Accuracy = %s\\nPrecision = %s\\nRecall = %s\\nSpecificity = %s\\nFalse Positive Rate\\\n",
        " = %s\\nF1 Score = %s\\nBalanced Accuracy = %s\"%(accuracy, precision, recall, specificity, false_positive_rate, f1_score, balanced_accuracy))\n",
        "print(\"Accuracy = %s\\nFalse Negative Rate = %s\"%(accuracy, false_negative_rate))"
      ],
      "execution_count": 12,
      "outputs": [
        {
          "output_type": "stream",
          "text": [
            "LR0:\n",
            "Accuracy = 0.8751733703190014\n",
            "Precision = 0.8876860622462788\n",
            "Recall = 0.8711819389110226\n",
            "Specificity = 0.8795355587808418\n",
            "False Positive Rate = 0.1204644412191582\n",
            "F1 Score = 0.8793565683646112\n",
            "Balanced Accuracy = 0.8836108105135603\n",
            "Accuracy = 0.8751733703190014\n",
            "False Negative Rate = 0.12881806108897742\n",
            "--------------------------------------------------\n",
            "LR1:\n",
            "Accuracy = 0.8862690707350902\n",
            "Precision = 0.920114122681883\n",
            "Recall = 0.8565737051792829\n",
            "Specificity = 0.918722786647315\n",
            "False Positive Rate = 0.08127721335268505\n",
            "F1 Score = 0.8872077028885833\n",
            "Balanced Accuracy = 0.9194184546645989\n",
            "Accuracy = 0.8862690707350902\n",
            "False Negative Rate = 0.14342629482071714\n",
            "--------------------------------------------------\n",
            "LSTM:\n",
            "Accuracy = 0.8786407766990292\n",
            "Precision = 0.8589385474860335\n",
            "Recall = 0.8925979680696662\n",
            "Specificity = 0.8658698539176627\n",
            "False Positive Rate = 0.1341301460823373\n",
            "F1 Score = 0.8754448398576512\n",
            "Balanced Accuracy = 0.8624042007018481\n",
            "Accuracy = 0.8786407766990292\n",
            "False Negative Rate = 0.10740203193033382\n",
            "--------------------------------------------------\n",
            "BERT:\n",
            "Accuracy = 0.897364771151179\n",
            "Precision = 0.9193798449612403\n",
            "Recall = 0.8606676342525399\n",
            "Specificity = 0.9309428950863213\n",
            "False Positive Rate = 0.06905710491367861\n",
            "F1 Score = 0.889055472263868\n",
            "Balanced Accuracy = 0.9251613700237808\n",
            "Accuracy = 0.897364771151179\n",
            "False Negative Rate = 0.13933236574746008\n",
            "--------------------------------------------------\n",
            "CNN:\n",
            "Accuracy = 0.9015256588072122\n",
            "Precision = 0.8992700729927007\n",
            "Recall = 0.8940493468795355\n",
            "Specificity = 0.9083665338645418\n",
            "False Positive Rate = 0.09163346613545817\n",
            "F1 Score = 0.8966521106259098\n",
            "Balanced Accuracy = 0.9038183034286212\n",
            "Accuracy = 0.9015256588072122\n",
            "False Negative Rate = 0.10595065312046444\n"
          ],
          "name": "stdout"
        }
      ]
    },
    {
      "cell_type": "code",
      "metadata": {
        "id": "G9C1jV_FL8aP"
      },
      "source": [
        ""
      ],
      "execution_count": null,
      "outputs": []
    }
  ]
}